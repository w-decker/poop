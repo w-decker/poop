{
 "cells": [
  {
   "cell_type": "markdown",
   "metadata": {},
   "source": [
    "# So what even is POOP?\n",
    "\n",
    "The previous section only provided you with what OOP __isn't__. In this section, I will be going over the basics of object oriented programming like...\n",
    "\n",
    "1. What is it?\n",
    "2. How to construct a simple object in Python"
   ]
  },
  {
   "cell_type": "markdown",
   "metadata": {},
   "source": [
    "## So what is an object?\n",
    "\n",
    "Well, it's not anything physical. Think of it like a metaphorical toychest. The chest is the object. Inside they chest, there are toys. You can do different things with these toys. In Python, objects are called __classes__. They toys are called __methods__ and __attributes__. A method is like a toy that does stuff, like a car that moves, or legos that can be built. Attributes are more like figurines or barbie dolls: you mainly just look at them. Attibutes are primarily descriptive. \n",
    "\n",
    "Lots of Python packages are built using an OOP framework. A popular one in neuroscience, [MNE](getlink), uses OOP to run analysis pipelines. You can take toolboxes, packages, modules, etc. built with OOP and using them procedurally. or dynamically. "
   ]
  },
  {
   "cell_type": "markdown",
   "metadata": {},
   "source": [
    "## What does an object look like in Python?\n",
    "\n",
    "I will be building an example class using a car. The car is the object. It has different attributes, like color, size, miles per gallon, etc. It also has methods, like driving, parking, reversing and flying (just for fun).\n",
    "\n",
    "Just like when you define a function in Python, you need to define your class. \n",
    "\n",
    "```Python\n",
    "class Car\n",
    "```\n",
    "\n",
    "Once you have defined your class, you need to do a few things more steps. This is where things become more tricky because you are having to conceptualize objects in more detail now and understand the components which make up an object.\n",
    "\n",
    "We now need to create a special function used specifically for objects, called `self`. It looks lik this.\n",
    "\n",
    "```Python\n",
    "def __init__(self):\n",
    "```\n",
    "\n",
    "It is under this function that you can initialize some attributes to the object. Lets look at what this is."
   ]
  },
  {
   "cell_type": "code",
   "execution_count": 1,
   "metadata": {},
   "outputs": [
    {
     "name": "stdout",
     "output_type": "stream",
     "text": [
      "The make of this car is Porsche.\n"
     ]
    }
   ],
   "source": [
    "class Car:\n",
    "    def __init__(self):\n",
    "        self.color=\"Red\"\n",
    "        self.make = 'Porsche'\n",
    "        self.model = \"911\"\n",
    "        self.year = \"1966\"\n",
    "\n",
    "car = Car()\n",
    "print(f'The make of this car is {car.make}.')"
   ]
  },
  {
   "cell_type": "markdown",
   "metadata": {},
   "source": [
    "As you can see, I have __attributed__ this data to the object. A few things to note syntax wise:\n",
    "\n",
    "1. When assigning an object to a variable, you must include parentheses at the end, like `car = Car()`. \n",
    "2. When calling a method, you also use parentheses. See the next cell for an example of constructing a method.\n",
    "3. When calling attributes, you do NOT need parentheses. \n",
    "\n",
    "Now that you've seen what attibutes look like, let's take a look at some methods we could implement in this simple example."
   ]
  },
  {
   "cell_type": "code",
   "execution_count": 2,
   "metadata": {},
   "outputs": [
    {
     "name": "stdout",
     "output_type": "stream",
     "text": [
      "Driving 100 miles.\n"
     ]
    }
   ],
   "source": [
    "class Car:\n",
    "\n",
    "    # define self and attributes\n",
    "    def __init__(self):\n",
    "        self.color=\"Red\"\n",
    "        self.make = 'Porsche'\n",
    "        self.model = \"911\"\n",
    "        self.year = \"1966\"\n",
    "\n",
    "    # Method 1: Make car go forwar\n",
    "    def drive(self, distance):\n",
    "        \"\"\"Make the car drive\n",
    "        \n",
    "        Parameters\n",
    "        ----------\n",
    "        distance: int\n",
    "            How many miles are you going to make the car drive?\n",
    "        \"\"\"\n",
    "        self.distance = distance\n",
    "        print(f'Driving %d miles.' % self.distance)\n",
    "\n",
    "car = Car()\n",
    "car.drive(distance=100)"
   ]
  },
  {
   "cell_type": "markdown",
   "metadata": {},
   "source": [
    "Methods are functions within the class that do things with the object. When defining your function, you need to include `self` in that function. This allows you to pull other components of the object into that function directly, like the attributes or other things that may have developed along the way in other methods. Like in this case: we require a parameter for `Car.drive()`, `distance`. The function then uses this to print a statement. But, we are also assigning that argument to `self` and making it an attribute. Try calling `car.distance`. It should print out the parameter that you gave it.\n",
    "\n",
    "I've also included a doc string. This is a good habit to get into. Even though the method/function which we've defined is extremely simple, it is good practice to write this docstring. Docstrings can be called via `.__doc__`"
   ]
  },
  {
   "cell_type": "code",
   "execution_count": 3,
   "metadata": {},
   "outputs": [
    {
     "data": {
      "text/plain": [
       "100"
      ]
     },
     "execution_count": 3,
     "metadata": {},
     "output_type": "execute_result"
    }
   ],
   "source": [
    "# calling new attribute, distance\n",
    "car.distance"
   ]
  },
  {
   "cell_type": "code",
   "execution_count": 4,
   "metadata": {},
   "outputs": [
    {
     "name": "stdout",
     "output_type": "stream",
     "text": [
      "Make the car drive\n",
      "        \n",
      "        Parameters\n",
      "        ----------\n",
      "        distance: int\n",
      "            How many miles are you going to make the car drive?\n",
      "        \n"
     ]
    }
   ],
   "source": [
    "# printing docstring\n",
    "print(car.drive.__doc__)"
   ]
  },
  {
   "cell_type": "markdown",
   "metadata": {},
   "source": [
    "Let's build some more complicated objects."
   ]
  }
 ],
 "metadata": {
  "kernelspec": {
   "display_name": "Python 3",
   "language": "python",
   "name": "python3"
  },
  "language_info": {
   "codemirror_mode": {
    "name": "ipython",
    "version": 3
   },
   "file_extension": ".py",
   "mimetype": "text/x-python",
   "name": "python",
   "nbconvert_exporter": "python",
   "pygments_lexer": "ipython3",
   "version": "3.10.7"
  }
 },
 "nbformat": 4,
 "nbformat_minor": 2
}