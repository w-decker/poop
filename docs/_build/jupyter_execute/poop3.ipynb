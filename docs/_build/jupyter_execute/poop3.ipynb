{
 "cells": [
  {
   "cell_type": "markdown",
   "metadata": {},
   "source": [
    "# Building more complex objects\n",
    "\n",
    "In the previous section, you were introduced to the syntactical properties of objects in Python, denoted as `class`. There is a lot that you can do with these outside of the overly simple car example. Let's see what we can do."
   ]
  },
  {
   "cell_type": "markdown",
   "metadata": {},
   "source": [
    "## Arguments and parameters in classes\n",
    "\n",
    "You can set default parameters in classes just like we did in the previous section or you can set them yourself with arguments. Let's look at how to set this up by futher building upon the car example. "
   ]
  },
  {
   "cell_type": "code",
   "execution_count": 1,
   "metadata": {},
   "outputs": [],
   "source": [
    "class Car:\n",
    "\n",
    "    def __init__(self, make, model, year, color):\n",
    "        self.make = make\n",
    "        self.model = model\n",
    "        self.year = year\n",
    "        self.color = color\n",
    "\n",
    "    def drive(self):\n",
    "\n",
    "        fast_cars = [ # list of fast cars to look through\n",
    "            \"porsche\",\n",
    "            \"mercedes\",\n",
    "            \"bmw\",\n",
    "            \"ferrari\", \n",
    "            \"lamborghini\",\n",
    "            \"audi\",\n",
    "            \"corvette\",\n",
    "            \"mustang\"\n",
    "        ]\n",
    "\n",
    "        if self.make.lower() in fast_cars:\n",
    "            print(f'Wow! You have a {self.make}. You can drive fast!')\n",
    "        else:\n",
    "            print(f'Let\\'s just cruise.')"
   ]
  },
  {
   "cell_type": "code",
   "execution_count": 2,
   "metadata": {},
   "outputs": [
    {
     "name": "stdout",
     "output_type": "stream",
     "text": [
      "Wow! You have a BMW. You can drive fast!\n"
     ]
    }
   ],
   "source": [
    "car = Car(make=\"BMW\", model=\"M3\", year=\"2023\", color=\"black\")\n",
    "car.drive()"
   ]
  },
  {
   "cell_type": "markdown",
   "metadata": {},
   "source": [
    "In this example, we chose our car ourselves and populated `self` (i.e., the attributes/things that make up a class) based on the input for the parameters. Then, inside the method `Car.drive()`, I added a list of some cars that might be faster than others. When you call the drive, method, it looks through `self.make` and checks if it is one of the cars in the `fast_cars` list. Understanding `self` is arguably one of the most important components to understanding POOP. "
   ]
  },
  {
   "cell_type": "markdown",
   "metadata": {},
   "source": [
    "## Parent vs child\n",
    "\n",
    "No, you are not going to battle your parents. What this is denoting is a parent class versus a child class. Often times, there is a main or \"parent\" class that handles everything. There can also be a \"child\" class which might have additionally functionality but for practical reasons is split from the parent. Let's look at this more. "
   ]
  },
  {
   "cell_type": "code",
   "execution_count": 3,
   "metadata": {},
   "outputs": [
    {
     "name": "stdout",
     "output_type": "stream",
     "text": [
      "The parent's name is Bob.\n",
      "The child's name is Bob.\n"
     ]
    }
   ],
   "source": [
    "class Parent:\n",
    "    def __init__(self):\n",
    "        self.parent_name = \"Bob\"\n",
    "\n",
    "class Child(Parent):\n",
    "    def __init__(self):\n",
    "        super().__init__()\n",
    "        self.child_name = \"Will\"\n",
    "\n",
    "parent = Parent()\n",
    "print(f'The parent\\'s name is {parent.parent_name}.')\n",
    "child = Child()\n",
    "print(f'The child\\'s name is {child.parent_name}.')\n"
   ]
  },
  {
   "cell_type": "markdown",
   "metadata": {},
   "source": [
    "As you can see, the child class is able to access the attribute `parent_name`. This is called class inheritance. This is done using `super().__init__()`. When including this line of code you are bringing the attributes from a parent class. To denote which specific class, we provide `Child(Parent)` so that the child class knows which parent class to pull from."
   ]
  },
  {
   "cell_type": "markdown",
   "metadata": {},
   "source": [
    "## More complex stuff\n",
    "\n",
    "Let's take a look at another more complex way of building and working with objects: I want to create an object that handles my data. I have participants take a multiple choice test on their knowledge of one of my favorite artists, [Karen Carpenter](https://en.wikipedia.org/wiki/Karen_Carpenter). There are right answers and wrong answers. Let's build a class that takes their answers, and calculate their scores. "
   ]
  },
  {
   "cell_type": "code",
   "execution_count": 4,
   "metadata": {},
   "outputs": [],
   "source": [
    "class KCtest:\n",
    "    def __init__(self, data):\n",
    "        self.answer_key = [\"A\", \"B\", \"B\", \"D\", \"A\", \"C\", \"A\", \"D\", \"A\", \"C\"] # here are the correct answers\n",
    "        self.data = data # assign data to class\n",
    "        \n",
    "        # check if sc\n",
    "    def score(self):\n",
    "        \"\"\"Function that scores data\"\"\"\n",
    "        scores = 0 # empty list to store points\n",
    "        for i in range(len(self.data)):\n",
    "            if self.data[i] == self.answer_key[i]:\n",
    "                scores += 1\n",
    "            else:\n",
    "                scores += 0\n",
    "\n",
    "        # calculate score\n",
    "        score = scores/float(len(self.answer_key)) * 100\n",
    "\n",
    "        # add to self and return\n",
    "        self.score = score\n",
    "\n",
    "        # print score\n",
    "        print(f'This student scored %.2f on the test examining their knowldege of Karen Carpenter.' % self.score)"
   ]
  },
  {
   "cell_type": "markdown",
   "metadata": {},
   "source": [
    "In the above cell, I have created a class called `KCtest`. It takes the data from a participant and scores it. Let's see this in action."
   ]
  },
  {
   "cell_type": "code",
   "execution_count": 5,
   "metadata": {},
   "outputs": [],
   "source": [
    "student_answers = [\"A\", \"A\", \"B\", \"D\", \"D\", \"C\", \"A\", \"D\", \"B\", \"C\"]\n",
    "KCscore = KCtest(data=student_answers)"
   ]
  },
  {
   "cell_type": "markdown",
   "metadata": {},
   "source": [
    "In the above cell, I have someones data and I put it into the class."
   ]
  },
  {
   "cell_type": "code",
   "execution_count": 6,
   "metadata": {},
   "outputs": [
    {
     "name": "stdout",
     "output_type": "stream",
     "text": [
      "This student scored 70.00 on the test examining their knowldege of Karen Carpenter.\n"
     ]
    }
   ],
   "source": [
    "KCscore.score()"
   ]
  },
  {
   "cell_type": "markdown",
   "metadata": {},
   "source": [
    "In the above cell, I execute the method `.score()`. Remember: methods require parentheses when calling them!"
   ]
  },
  {
   "cell_type": "markdown",
   "metadata": {},
   "source": [
    "## Closing remarks\n",
    "\n",
    "Try finding an instance of code or issue that you have encountered in which you solved it with code and re-implement it with object-oriented programming. The logic! \n",
    "\n",
    "Although these examples and overall tutorial is relatively simple, its soft introduction to POOP should provide you with at least the confidence to tackle it at a greater scale in the future! Lot's of packages and software make use of POOP so being familiar with it, the terms involved and how to build your own OOP code is imperative!"
   ]
  }
 ],
 "metadata": {
  "kernelspec": {
   "display_name": "Python 3",
   "language": "python",
   "name": "python3"
  },
  "language_info": {
   "codemirror_mode": {
    "name": "ipython",
    "version": 3
   },
   "file_extension": ".py",
   "mimetype": "text/x-python",
   "name": "python",
   "nbconvert_exporter": "python",
   "pygments_lexer": "ipython3",
   "version": "3.10.7"
  }
 },
 "nbformat": 4,
 "nbformat_minor": 2
}