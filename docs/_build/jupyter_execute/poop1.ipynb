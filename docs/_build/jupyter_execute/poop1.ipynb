{
 "cells": [
  {
   "cell_type": "markdown",
   "metadata": {},
   "source": [
    "# POOP Introduction\n",
    "\n",
    "In this module, I will be discussing __P__ ython __O__ bject __O__ riented __P__ rogramming, or __POOP__ for short."
   ]
  },
  {
   "cell_type": "markdown",
   "metadata": {},
   "source": [
    "## Before OOP\n",
    "\n",
    "The conceptual understanding and method for programming that is often used is called *procedural* programming. Backend components may run code in parallel, or my operate using fancy technology, but the code is written procedurally. This means that is is executed or written with the intent that each line will be executed sequentially.\n",
    "\n",
    "There are a few different examples that illustrate this explicitly. Let's take a look at the __R Programming Language__."
   ]
  },
  {
   "cell_type": "markdown",
   "metadata": {},
   "source": [
    "```R\n",
    "# libraries\n",
    "library(dplyr)\n",
    "library(tidyr)\n",
    "\n",
    "# data\n",
    "data(iris)\n",
    "head(iris)\n",
    "\n",
    "# pipe operator\n",
    "m <- iris %>%\n",
    "  group_by(Species) %>%\n",
    "  summarize(mean=mean(Sepal.Length))\n",
    "\n",
    "# print\n",
    "print(c(\"Mean Sepal Length for setosa\" = m[1, 2]))\n",
    "```"
   ]
  },
  {
   "cell_type": "markdown",
   "metadata": {},
   "source": [
    "In this example, we are using `%>%`. This is called a chain operator. It sends the output from one execution of code to the other. Let's break this down line by line.\n",
    "\n",
    "```R\n",
    "m <- iris %>% # this assigned the iris df to a variable, m. %>% tells it that we want to do more\n",
    "    groub_by(Species) %>% # Here, we are grouping the data by species type and planning on doing even more\n",
    "    summarize(mean=mean(Sepal.Length)) # Here, we are getting the mean sepal length for each group. \n",
    "\n",
    "```\n",
    "\n",
    "Because we have used `%>%` we do not assign the entire data frame `iris` to the variable `m`, but rather, assign the output from our subsequent code to `m`. In this case, the means of sepal lengths for each species are assigned to the variable `m`. Let's take a look at another example of procedural programming with Unix. "
   ]
  },
  {
   "cell_type": "markdown",
   "metadata": {},
   "source": [
    "```bash\n",
    "# enter current path\n",
    "x=pwd\n",
    "cd $x\n",
    "\n",
    "# make file with some text\n",
    "echo \"Hello world\" > file.txt\n",
    "\n",
    "# use pipe\n",
    "cat file.txt | grep \"l\" | wc\n",
    "\n",
    "```"
   ]
  },
  {
   "cell_type": "markdown",
   "metadata": {},
   "source": [
    "Here, we are using `|`. This is called the pipe operator. The output of one command is assigned to the input of another command. Let's take a look at this line by line.\n",
    "\n",
    "```bash\n",
    "x=pwd # this finds the current working directory and assigns it to variable x.\n",
    "cd $x # This allows us to enter the current working directory\n",
    "\n",
    "```\n",
    "\n",
    "```bash\n",
    "echo \"Hello world\" > file.txt # this creates a file named \"file.txt\" with \"Hello world\" as the first line.\n",
    "```\n",
    "\n",
    "```bash\n",
    "cat file.txt | grep \"l\" | wc # cat <file> reads in the file. `|` Tells us to do more. grep \"l\" is saying to get all the information of strings that contain the letter \"l\". wc is word count information\n",
    "\n",
    "```\n",
    "\n",
    "We have used the pipe operator to assign outputs from one command to the inputs of another. But the two examples which I have provided are overly pedantic to get a simple point across. In fact, they may have served you better for other coding functions, operations etc. So to justify the simplicity of procedural programming (at least for the extent of this module), I will provide one more exapmle with Python."
   ]
  },
  {
   "cell_type": "code",
   "execution_count": 1,
   "metadata": {},
   "outputs": [
    {
     "name": "stdout",
     "output_type": "stream",
     "text": [
      "The number 1 is odd.\n",
      "The number 2 is even.\n",
      "The number 3 is odd.\n",
      "The number 4 is even.\n",
      "The number 5 is odd.\n",
      "The number 6 is even.\n",
      "The number 7 is odd.\n",
      "The number 8 is even.\n",
      "The number 9 is odd.\n",
      "The number 10 is even.\n"
     ]
    }
   ],
   "source": [
    "x = [1, 2, 3, 4, 5, 6, 7, 8, 9, 10]\n",
    "\n",
    "for i in x:\n",
    "    if i % 2 == 0:\n",
    "        print(f'The number %d is even.' % i)\n",
    "    else:\n",
    "        print(f'The number %d is odd.' % i)"
   ]
  },
  {
   "cell_type": "markdown",
   "metadata": {},
   "source": [
    "The above example is also considered procedural programming. It executes each line of code sequentially. If I have not made myself clear, practically all code is written procedurally*.\n",
    "\n",
    "*Here, I am explicitly referring to the context of a student using coding in neuroscience. If you are in a different, field, this may or is likely different. "
   ]
  },
  {
   "cell_type": "markdown",
   "metadata": {},
   "source": [
    "## Object Oriented Programming\n",
    "\n",
    "For me, OOP was a difficult concept to initially wrap my head around. Coming from a non-tradtional coding background, I had grown overly accustomed to proceduraly programming. It's easy to develop and understand from an outsider persepctive. But OOP is has a lot of advantages over procedural programming. I would say that it took me a good month to be comfortable with developing my own POOP code--but after that, it has gotten loads easier. The goal of this module is to \n",
    "\n",
    "1. Demonstrate POOP\n",
    "2. Show you how to build POOP\n",
    "3. Explain the advantages of POOP and when to use it\n",
    "\n",
    "Continue to the next section to get an in-depth look at POOP."
   ]
  }
 ],
 "metadata": {
  "kernelspec": {
   "display_name": "Python 3",
   "language": "python",
   "name": "python3"
  },
  "language_info": {
   "codemirror_mode": {
    "name": "ipython",
    "version": 3
   },
   "file_extension": ".py",
   "mimetype": "text/x-python",
   "name": "python",
   "nbconvert_exporter": "python",
   "pygments_lexer": "ipython3",
   "version": "3.10.7"
  }
 },
 "nbformat": 4,
 "nbformat_minor": 2
}